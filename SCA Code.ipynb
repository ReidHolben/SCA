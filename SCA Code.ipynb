{
 "cells": [
  {
   "cell_type": "code",
   "execution_count": 137,
   "id": "1632b4c9",
   "metadata": {},
   "outputs": [],
   "source": [
    "import pandas as pd\n",
    "import numpy as np\n",
    "import math\n",
    "\n",
    "#Read in the Excel File\n",
    "#df = pd.read_excel (r'/Users/reid/Downloads/test 2021-05-06 start.xlsx')\n",
    "df = pd.read_excel (r'/Users/reid/Downloads/SCATest.xlsx')"
   ]
  },
  {
   "cell_type": "code",
   "execution_count": 138,
   "id": "b6750e37",
   "metadata": {},
   "outputs": [
    {
     "data": {
      "text/plain": [
       "False"
      ]
     },
     "execution_count": 138,
     "metadata": {},
     "output_type": "execute_result"
    }
   ],
   "source": [
    "#Check if there are missing timestamps\n",
    "df['time'].isnull().values.any()"
   ]
  },
  {
   "cell_type": "code",
   "execution_count": 139,
   "id": "287a2a6e",
   "metadata": {},
   "outputs": [
    {
     "data": {
      "text/plain": [
       "True"
      ]
     },
     "execution_count": 139,
     "metadata": {},
     "output_type": "execute_result"
    }
   ],
   "source": [
    "#Check if there are missing VTWS_AVG values\n",
    "df['VTWS_AVG'].isnull().values.any()"
   ]
  },
  {
   "cell_type": "code",
   "execution_count": 140,
   "id": "1dd25d64",
   "metadata": {},
   "outputs": [],
   "source": [
    "df[\"Timestamp flag\"] = \" \"\n",
    "df[\"data qc flag VTWS_AVG\"] = \" \""
   ]
  },
  {
   "cell_type": "code",
   "execution_count": 154,
   "id": "567560ad",
   "metadata": {},
   "outputs": [],
   "source": [
    "x=0\n",
    "while x<len(df):\n",
    "    if math.isnan(df[\"VTWS_AVG\"].values[x]):\n",
    "        df.at[x,\"data qc flag VTWS_AVG\"]=\"Erroneous\"\n",
    "        x+=1\n",
    "    else:\n",
    "        x+=1"
   ]
  },
  {
   "cell_type": "code",
   "execution_count": null,
   "id": "a470590d",
   "metadata": {},
   "outputs": [],
   "source": []
  }
 ],
 "metadata": {
  "kernelspec": {
   "display_name": "Python 3 (ipykernel)",
   "language": "python",
   "name": "python3"
  },
  "language_info": {
   "codemirror_mode": {
    "name": "ipython",
    "version": 3
   },
   "file_extension": ".py",
   "mimetype": "text/x-python",
   "name": "python",
   "nbconvert_exporter": "python",
   "pygments_lexer": "ipython3",
   "version": "3.9.7"
  }
 },
 "nbformat": 4,
 "nbformat_minor": 5
}
